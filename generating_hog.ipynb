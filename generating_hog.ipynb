{
  "cells": [
    {
      "cell_type": "code",
      "execution_count": 1,
      "metadata": {
        "id": "LgAsvuClt0fL"
      },
      "outputs": [],
      "source": [
        "from skimage.io import imread, imshow\n",
        "from skimage.transform import resize\n",
        "from skimage.feature import hog\n",
        "from skimage import exposure\n",
        "import matplotlib.pyplot as plt\n",
        "from PIL import Image\n",
        "import os,sys\n",
        "import matplotlib.pyplot as plt\n",
        "from pathlib import Path\n",
        "import numpy as np\n",
        "%matplotlib notebook\n",
        "from sklearn import svm, metrics, datasets\n",
        "from sklearn.utils import Bunch\n",
        "from sklearn.model_selection import GridSearchCV, train_test_split\n",
        "import skimage"
      ]
    },
    {
      "cell_type": "code",
      "source": [
        "from google.colab import drive\n",
        "drive.mount('/content/drive')"
      ],
      "metadata": {
        "colab": {
          "base_uri": "https://localhost:8080/"
        },
        "id": "zktRvnart4CP",
        "outputId": "8fef2d4c-9e4c-45ad-8f94-3464c72b8ef2"
      },
      "execution_count": 2,
      "outputs": [
        {
          "output_type": "stream",
          "name": "stdout",
          "text": [
            "Mounted at /content/drive\n"
          ]
        }
      ]
    },
    {
      "cell_type": "code",
      "execution_count": 3,
      "metadata": {
        "id": "zfLRDsrTt0fN"
      },
      "outputs": [],
      "source": [
        "path=r'/content/drive/MyDrive/mdenode_resized/'"
      ]
    },
    {
      "cell_type": "code",
      "execution_count": 4,
      "metadata": {
        "id": "OQgUWC8tt0fN"
      },
      "outputs": [],
      "source": [
        "dirs=os.listdir(path)"
      ]
    },
    {
      "cell_type": "code",
      "execution_count": 6,
      "metadata": {
        "id": "X3OoMFilt0fO"
      },
      "outputs": [],
      "source": [
        "def save_hog():\n",
        "    for item in dirs:\n",
        "        for img in os.listdir(path+item):\n",
        "            if os.path.isfile(path+item+'/'+img):\n",
        "                a=path+'/'+item\n",
        "                im=Image.open(path+item+'/'+img)\n",
        "                im=np.array(im)\n",
        "                img_eq=exposure.equalize_hist(im)\n",
        "                f,e=os.path.splitext(img)\n",
        "                fd, hog_image = hog(img_eq, orientations=9, pixels_per_cell=(8, 8), cells_per_block=(2, 2), visualize=True, multichannel=True)\n",
        "                hog_image_rescaled = exposure.rescale_intensity(hog_image, in_range=(0, 10))\n",
        "                plt.imsave(a+f + '_hog.jpg', hog_image_rescaled, cmap='Greys')"
      ]
    },
    {
      "cell_type": "code",
      "execution_count": 5,
      "metadata": {
        "id": "yShuAEqdt0fO"
      },
      "outputs": [],
      "source": [
        "save_hog()"
      ]
    },
    {
      "cell_type": "code",
      "execution_count": null,
      "metadata": {
        "id": "u5BNTU5ot0fO"
      },
      "outputs": [],
      "source": []
    }
  ],
  "metadata": {
    "file_extension": ".py",
    "kernelspec": {
      "display_name": "Python 3",
      "name": "python3"
    },
    "language_info": {
      "codemirror_mode": {
        "name": "ipython",
        "version": 3
      },
      "name": "python",
      "version": "3.11.5"
    },
    "mimetype": "text/x-python",
    "name": "python",
    "npconvert_exporter": "python",
    "orig_nbformat": 2,
    "pygments_lexer": "ipython3",
    "version": 3,
    "colab": {
      "provenance": []
    }
  },
  "nbformat": 4,
  "nbformat_minor": 0
}