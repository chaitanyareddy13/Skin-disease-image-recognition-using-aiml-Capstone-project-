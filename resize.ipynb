{
  "cells": [
    {
      "cell_type": "code",
      "execution_count": 1,
      "metadata": {
        "id": "8DfOhJ7pTvPH"
      },
      "outputs": [],
      "source": [
        "from PIL import Image\n",
        "import os,sys"
      ]
    },
    {
      "cell_type": "code",
      "execution_count": 6,
      "metadata": {
        "id": "HZ7SUuwfTvPI"
      },
      "outputs": [],
      "source": [
        "path=r'/content/drive/MyDrive/mdenode_resized'"
      ]
    },
    {
      "cell_type": "code",
      "execution_count": 7,
      "metadata": {
        "colab": {
          "base_uri": "https://localhost:8080/"
        },
        "id": "MHU4vPTJTvPJ",
        "outputId": "d3f65f8e-61ac-46cb-9ce9-953aca4ec1d5"
      },
      "outputs": [
        {
          "output_type": "execute_result",
          "data": {
            "text/plain": [
              "['naevus', 'melanoma', 'basal cell carcinoma']"
            ]
          },
          "metadata": {},
          "execution_count": 7
        }
      ],
      "source": [
        "dirs=os.listdir(path)\n",
        "dirs"
      ]
    },
    {
      "cell_type": "code",
      "source": [
        "from google.colab import drive\n",
        "drive.mount('/content/drive')"
      ],
      "metadata": {
        "colab": {
          "base_uri": "https://localhost:8080/"
        },
        "id": "J5cY6b4FT6VH",
        "outputId": "a1e4b254-5d81-4316-c3ae-340c07176d2f"
      },
      "execution_count": 4,
      "outputs": [
        {
          "output_type": "stream",
          "name": "stdout",
          "text": [
            "Mounted at /content/drive\n"
          ]
        }
      ]
    },
    {
      "cell_type": "code",
      "execution_count": null,
      "metadata": {
        "id": "dXvX4pobTvPJ"
      },
      "outputs": [],
      "source": [
        "def resize():\n",
        "    for item in dirs:\n",
        "        for img in os.listdir(path+item):\n",
        "            if os.path.isfile(path+item+'/'+img):\n",
        "                a=path+'/'+item\n",
        "                try:\n",
        "                    im=Image.open(path+item+'/'+img)\n",
        "                    f,e=os.path.splitext(img)\n",
        "                    imResize = im.resize((128,64), Image.ANTIALIAS)\n",
        "                    imResize.save(a+f + '_resized.jpg', 'JPEG', quality=90)\n",
        "                except:\n",
        "                    continue"
      ]
    },
    {
      "cell_type": "code",
      "execution_count": null,
      "metadata": {
        "id": "VeDpRcrZTvPK"
      },
      "outputs": [],
      "source": [
        "resize()"
      ]
    },
    {
      "cell_type": "code",
      "execution_count": null,
      "metadata": {
        "id": "eDyPLAdiTvPK"
      },
      "outputs": [],
      "source": []
    }
  ],
  "metadata": {
    "file_extension": ".py",
    "kernelspec": {
      "display_name": "Python 3",
      "language": "python",
      "name": "python3"
    },
    "language_info": {
      "codemirror_mode": {
        "name": "ipython",
        "version": 3
      },
      "name": "python",
      "version": "3.7.0"
    },
    "mimetype": "text/x-python",
    "name": "python",
    "npconvert_exporter": "python",
    "orig_nbformat": 2,
    "pygments_lexer": "ipython3",
    "version": 3,
    "vscode": {
      "interpreter": {
        "hash": "f16593635fd2756052d6734a0ca3049f144d63c788fda7f4f8ecd93b8f9bbfa3"
      }
    },
    "colab": {
      "provenance": []
    }
  },
  "nbformat": 4,
  "nbformat_minor": 0
}