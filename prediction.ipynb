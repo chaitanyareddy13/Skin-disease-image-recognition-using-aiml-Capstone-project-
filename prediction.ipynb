{
  "nbformat": 4,
  "nbformat_minor": 0,
  "metadata": {
    "colab": {
      "provenance": []
    },
    "kernelspec": {
      "name": "python3",
      "display_name": "Python 3"
    },
    "language_info": {
      "name": "python"
    }
  },
  "cells": [
    {
      "cell_type": "markdown",
      "source": [
        "**prediction**"
      ],
      "metadata": {
        "id": "2BQXBeOyinqu"
      }
    },
    {
      "cell_type": "code",
      "source": [
        "from pathlib import Path\n",
        "import matplotlib.pyplot as plt\n",
        "import numpy as np\n",
        "%matplotlib notebook\n",
        "from sklearn import svm, metrics, datasets\n",
        "from sklearn.utils import Bunch\n",
        "from sklearn.model_selection import GridSearchCV, train_test_split\n",
        "import pickle\n",
        "from skimage.io import imread\n",
        "from skimage.transform import resize\n",
        "import skimage"
      ],
      "metadata": {
        "id": "LBNsDDRCr7yK"
      },
      "execution_count": null,
      "outputs": []
    },
    {
      "cell_type": "code",
      "source": [
        "model=pickle.load(open('./svm.pkl','rb'))\n",
        "labels=['basal cell carcinoma', 'melanoma', 'naevus']\n"
      ],
      "metadata": {
        "id": "1Lfu9cd-r-Q-"
      },
      "execution_count": null,
      "outputs": []
    },
    {
      "cell_type": "code",
      "source": [
        "images = []\n",
        "flat_data = []\n",
        "path=r'/content/drive/MyDrive/predict1/'\n",
        "file=os.listdir('/content/drive/MyDrive/predict1')\n",
        "img = skimage.io.imread(path+str(file[0]))\n",
        "flat_data.append(img.flatten())\n",
        "images.append(img)\n",
        "flat_data = np.array(flat_data)\n",
        "images = np.array(images)\n",
        "test_data=Bunch(data=flat_data,images=images)"
      ],
      "metadata": {
        "id": "rJNrf2c4sBE_"
      },
      "execution_count": null,
      "outputs": []
    },
    {
      "cell_type": "code",
      "source": [
        "ans=model.predict(test_data.data)\n",
        "print(labels[ans[0]])\n"
      ],
      "metadata": {
        "id": "iOOrBabWsDjC",
        "colab": {
          "base_uri": "https://localhost:8080/",
          "height": 34
        },
        "outputId": "09427061-805c-47fe-d8fc-3edda335dc59"
      },
      "execution_count": null,
      "outputs": [
        {
          "output_type": "stream",
          "name": "stdout",
          "text": [
            "melanoma\n"
          ]
        }
      ]
    },
    {
      "cell_type": "code",
      "source": [],
      "metadata": {
        "id": "aPTcxS4DH-fu"
      },
      "execution_count": null,
      "outputs": []
    }
  ]
}